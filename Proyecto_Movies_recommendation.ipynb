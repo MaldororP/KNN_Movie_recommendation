{
 "cells": [
  {
   "cell_type": "markdown",
   "id": "db956231-c369-40ad-aeb9-df5754495f2e",
   "metadata": {},
   "source": [
    "## Proyecto KNN simple movie recomendation\n",
    "\n",
    "Haremos un programa simple que dé recomendaciones de peliculas. Dado un coleccion de peliculas, los clasificaremos y daremos recomendaciones basados en los datos obtenidos de la colección."
   ]
  },
  {
   "cell_type": "code",
   "execution_count": 1,
   "id": "cdbbea31-2ec3-46a7-9277-3b06d3fac28b",
   "metadata": {},
   "outputs": [],
   "source": [
    "from collections import Counter"
   ]
  },
  {
   "cell_type": "code",
   "execution_count": 2,
   "id": "0eeb64b8-81d9-4c51-bd5d-da3eb1744c2b",
   "metadata": {},
   "outputs": [],
   "source": [
    "import math"
   ]
  },
  {
   "cell_type": "code",
   "execution_count": 33,
   "id": "d6d022f3-e762-4f25-b837-7d7ba433e9e4",
   "metadata": {},
   "outputs": [],
   "source": [
    "def knn(data, query, k, distance_fn, choice_fn):\n",
    "    neighbor_distances_and_indices = []\n",
    "    \n",
    "    #Para cada ejemplo en los datos\n",
    "    for index, example in enumerate(data):\n",
    "        distance = distance_fn(example[:-1], query) #distancia de cada ejemplo\n",
    "        neighbor_distances_and_indices.append((distance, index))\n",
    "\n",
    "    #se acomoda de menor a mayor (las distancias)\n",
    "    sorted_neighbor_distances_and_indices = sorted(neighbor_distances_and_indices)\n",
    "\n",
    "    #se tpma el primer K de la coleccion ordenada.\n",
    "    k_nearest_distances_and_indices = sorted_neighbor_distances_and_indices[ : k]\n",
    "    #Obtengamos las etiquetas de los k seleccionados.\n",
    "\n",
    "    k_nearest_labels = [data[i][1] for distance, i in k_nearest_distances_and_indices]\n",
    "    \n",
    "    #si la regresion choice_fn = mean, entonces dará el promedio de las etiquetas de K\n",
    "    #Si la clasificacion choice_fn = mode, este devolverá  la moda de las etiquetas de k\n",
    "    return k_nearest_distances_and_indices, choice_fn(k_nearest_labels)"
   ]
  },
  {
   "cell_type": "code",
   "execution_count": 34,
   "id": "80045d1c-bac5-42b7-952f-7e2980f71749",
   "metadata": {},
   "outputs": [],
   "source": [
    "def mean(labels):\n",
    "    return sum(labels) / len(labels)"
   ]
  },
  {
   "cell_type": "code",
   "execution_count": 35,
   "id": "7e370a09-e781-4c00-aba2-940ef20f30d5",
   "metadata": {},
   "outputs": [],
   "source": [
    "def mode(labels):\n",
    "    return Counter(labels).most_common(1)[0][0]"
   ]
  },
  {
   "cell_type": "code",
   "execution_count": 36,
   "id": "0ec29b9c-6813-41ff-803c-fe9147733698",
   "metadata": {},
   "outputs": [],
   "source": [
    "def euclidean_distance(point1, point2):\n",
    "    sum_squared_distance = 0\n",
    "    for i in range(len(point1)):\n",
    "        sum_squared_distance += math.pow(point1[i] - point2[i], 2)\n",
    "    return math.sqrt(sum_squared_distance)"
   ]
  },
  {
   "cell_type": "markdown",
   "id": "2dcea708-c0a5-4270-b3d2-83fbde8c3904",
   "metadata": {},
   "source": [
    "Ahora haremos la funcion de recomendacion de peliculas. Para ello, usaremos el archivo 'movies_recomendation_data.csv'."
   ]
  },
  {
   "cell_type": "code",
   "execution_count": 38,
   "id": "b268007e-0489-4d2a-a963-801beb16c414",
   "metadata": {},
   "outputs": [
    {
     "name": "stdout",
     "output_type": "stream",
     "text": [
      "12 Years a Slave\n",
      "Hacksaw Ridge\n",
      "Queen of Katwe\n",
      "The Wind Rises\n",
      "A Beautiful Mind\n"
     ]
    }
   ],
   "source": [
    "def recommend_movies(movie_query, k_recommendations):\n",
    "    raw_movies_data = []\n",
    "\n",
    "    with open('movies_recommendation_data.csv', 'r') as md:\n",
    "\n",
    "        #Descartamos la primera linea\n",
    "        next(md)\n",
    "\n",
    "        #leemos los datos en la memoria\n",
    "        for line in md.readlines():\n",
    "            #eliminamos los espacios al inicio y final del texto de cada linea y dividimos el texto\n",
    "            data_row = line.strip().split(',')\n",
    "            raw_movies_data.append(data_row)\n",
    "\n",
    "    #preparamos los datos para usarlos en el algoritmo knn escogiendo las columnas\n",
    "    #relevantes y convirtiendo las columnas numericas a numeros, ya que se leen como\n",
    "    #string y no como numeros.\n",
    "\n",
    "    movies_recommendation_data = []\n",
    "\n",
    "    for row in raw_movies_data:\n",
    "        data_row = list(map(float, row[2:]))\n",
    "        movies_recommendation_data.append(data_row)\n",
    "\n",
    "    #Usamos el algoritmo KNN para obtener las 5 peliculas que sean mas\n",
    "    #similares en el post.\n",
    "\n",
    "    recommendation_indices, _ = knn(\n",
    "        movies_recommendation_data, movie_query, k = k_recommendations,\n",
    "        distance_fn = euclidean_distance, choice_fn = lambda x : None\n",
    "    )\n",
    "\n",
    "    movie_recommendations = []\n",
    "\n",
    "    for _, index in recommendation_indices:\n",
    "        movie_recommendations.append(raw_movies_data[index])\n",
    "\n",
    "    return movie_recommendations\n",
    "#Ahora vamos a probar nuestro programa. Pondremos nuestro post y veremos las recomendaciones.\n",
    "if __name__ == '__main__':\n",
    "    the_post = [7.2,1,1,0,0,0,0,1,0]#vector de columnas del post\n",
    "    recommended_movies = recommend_movies(movie_query= the_post, k_recommendations = 5)\n",
    "\n",
    "    for recommendation in recommended_movies:\n",
    "        print(recommendation[1])"
   ]
  },
  {
   "cell_type": "code",
   "execution_count": null,
   "id": "bd8e60f0-4bd7-45a7-8706-49d63ae793f7",
   "metadata": {},
   "outputs": [],
   "source": []
  }
 ],
 "metadata": {
  "kernelspec": {
   "display_name": "Python 3 (ipykernel)",
   "language": "python",
   "name": "python3"
  },
  "language_info": {
   "codemirror_mode": {
    "name": "ipython",
    "version": 3
   },
   "file_extension": ".py",
   "mimetype": "text/x-python",
   "name": "python",
   "nbconvert_exporter": "python",
   "pygments_lexer": "ipython3",
   "version": "3.12.3"
  }
 },
 "nbformat": 4,
 "nbformat_minor": 5
}
